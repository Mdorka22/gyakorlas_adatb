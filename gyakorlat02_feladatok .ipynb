{
    "metadata": {
        "kernelspec": {
            "name": "SQL",
            "display_name": "SQL",
            "language": "sql"
        },
        "language_info": {
            "name": "sql",
            "version": ""
        },
        "extensions": {
            "azuredatastudio": {
                "version": 1,
                "views": []
            }
        }
    },
    "nbformat_minor": 2,
    "nbformat": 4,
    "cells": [
        {
            "cell_type": "markdown",
            "source": [
                "1. <span style=\"color:rgb(36, 41, 47);font-family:-apple-system, BlinkMacSystemFont, &quot;Segoe UI&quot;, Helvetica, Arial, sans-serif, &quot;Apple Color Emoji&quot;, &quot;Segoe UI Emoji&quot;;font-size:16px;\">Készítsünk lekérdezést, amely listázza, hogy mely napokon hány db kölcsönzés történt!</span>\n",
                "\n",
                "<span style=\"font-size: 16px;\">a.&nbsp;</span> Az oszlopok neve legyen 'Dátum' és 'Kölcsönzések száma'  \n",
                "b. A listát rendezzük a kölcsönzés dátuma szerint csökkenő sorrendbe!"
            ],
            "metadata": {
                "azdata_cell_guid": "77f2d5b3-38e9-41cc-893f-f5afd02b97ef"
            },
            "attachments": {}
        },
        {
            "cell_type": "code",
            "source": [
                "select ki_datum as 'Dátum',\r\n",
                "        count(*) as 'Kölcsönzések száma'\r\n",
                "from kolcsonzesek\r\n",
                "group by ki_datum \r\n",
                "order by ki_datum DESC"
            ],
            "metadata": {
                "azdata_cell_guid": "bd3cef1a-4e6e-4ece-9dc3-aaa9d2b5d66d",
                "language": "sql"
            },
            "outputs": [
                {
                    "output_type": "display_data",
                    "data": {
                        "text/html": "(3 rows affected)"
                    },
                    "metadata": {}
                },
                {
                    "output_type": "display_data",
                    "data": {
                        "text/html": "Total execution time: 00:00:00.067"
                    },
                    "metadata": {}
                },
                {
                    "output_type": "execute_result",
                    "metadata": {},
                    "execution_count": 2,
                    "data": {
                        "application/vnd.dataresource+json": {
                            "schema": {
                                "fields": [
                                    {
                                        "name": "Dátum"
                                    },
                                    {
                                        "name": "Kölcsönzések száma"
                                    }
                                ]
                            },
                            "data": [
                                {
                                    "Dátum": "2006-10-02",
                                    "Kölcsönzések száma": "1"
                                },
                                {
                                    "Dátum": "2006-10-01",
                                    "Kölcsönzések száma": "1"
                                },
                                {
                                    "Dátum": "2003-12-11",
                                    "Kölcsönzések száma": "3"
                                }
                            ]
                        },
                        "text/html": [
                            "<table>",
                            "<tr><th>Dátum</th><th>Kölcsönzések száma</th></tr>",
                            "<tr><td>2006-10-02</td><td>1</td></tr>",
                            "<tr><td>2006-10-01</td><td>1</td></tr>",
                            "<tr><td>2003-12-11</td><td>3</td></tr>",
                            "</table>"
                        ]
                    }
                }
            ],
            "execution_count": 2
        },
        {
            "cell_type": "markdown",
            "source": [
                "2. <span style=\"font-weight: 600; color: rgb(36, 41, 47); font-family: -apple-system, BlinkMacSystemFont, &quot;Segoe UI&quot;, Helvetica, Arial, sans-serif, &quot;Apple Color Emoji&quot;, &quot;Segoe UI Emoji&quot;; font-size: 16px;\">Mennyi a dvd-k átlagos ára stílusonkénti bontásban?</span>\n",
                "\n",
                "1. Csak azokat a stílusokat vegyük figyelembe, ahol az átlagos ár 4500 Ft feletti!\n",
                "2. Az oszlopokat nevezzük el értelemszerűen!\n",
                "3. A listát rendezzük átlagos ár szerint csökkenő sorrendbe!"
            ],
            "metadata": {
                "azdata_cell_guid": "88f5b4bb-f4c1-4bad-a0c7-b2592687b422"
            },
            "attachments": {}
        },
        {
            "cell_type": "code",
            "source": [
                "select  stilus as 'DVD stílusa',\r\n",
                "        avg(nettoar) as 'Átlagos ár'\r\n",
                "from dvd\r\n",
                "group by stilus\r\n",
                "having avg(nettoar)>4500\r\n",
                "order by avg(nettoar) desc\r\n",
                ""
            ],
            "metadata": {
                "azdata_cell_guid": "e9de5726-f036-4fb9-8c33-a873955ed886",
                "language": "sql"
            },
            "outputs": [
                {
                    "output_type": "display_data",
                    "data": {
                        "text/html": "(30 rows affected)"
                    },
                    "metadata": {}
                },
                {
                    "output_type": "display_data",
                    "data": {
                        "text/html": "Total execution time: 00:00:00.029"
                    },
                    "metadata": {}
                },
                {
                    "output_type": "execute_result",
                    "metadata": {},
                    "execution_count": 3,
                    "data": {
                        "application/vnd.dataresource+json": {
                            "schema": {
                                "fields": [
                                    {
                                        "name": "DVD stílusa"
                                    },
                                    {
                                        "name": "Átlagos ár"
                                    }
                                ]
                            },
                            "data": [
                                {
                                    "DVD stílusa": "ásványtan",
                                    "Átlagos ár": "5624"
                                },
                                {
                                    "DVD stílusa": "játék (rodeó)",
                                    "Átlagos ár": "5591"
                                },
                                {
                                    "DVD stílusa": "humor",
                                    "Átlagos ár": "5573"
                                },
                                {
                                    "DVD stílusa": "környezetvédelem",
                                    "Átlagos ár": "5508"
                                },
                                {
                                    "DVD stílusa": "kresz",
                                    "Átlagos ár": "5476"
                                },
                                {
                                    "DVD stílusa": "játék (jégkorong)",
                                    "Átlagos ár": "5242"
                                },
                                {
                                    "DVD stílusa": "színház",
                                    "Átlagos ár": "5158"
                                },
                                {
                                    "DVD stílusa": "múvészet",
                                    "Átlagos ár": "5118"
                                },
                                {
                                    "DVD stílusa": "kémia",
                                    "Átlagos ár": "5094"
                                },
                                {
                                    "DVD stílusa": "fordító program",
                                    "Átlagos ár": "5036"
                                },
                                {
                                    "DVD stílusa": "kerttervező",
                                    "Átlagos ár": "4951"
                                },
                                {
                                    "DVD stílusa": "művészet",
                                    "Átlagos ár": "4939,25"
                                },
                                {
                                    "DVD stílusa": "festészet",
                                    "Átlagos ár": "4901"
                                },
                                {
                                    "DVD stílusa": "zene",
                                    "Átlagos ár": "4855,333333333333"
                                },
                                {
                                    "DVD stílusa": "játék",
                                    "Átlagos ár": "4850,466666666666"
                                },
                                {
                                    "DVD stílusa": "játék (labdarúgás)",
                                    "Átlagos ár": "4817,333333333333"
                                },
                                {
                                    "DVD stílusa": "állattan",
                                    "Átlagos ár": "4783,666666666667"
                                },
                                {
                                    "DVD stílusa": "nyelvtan",
                                    "Átlagos ár": "4770,666666666667"
                                },
                                {
                                    "DVD stílusa": "fizika",
                                    "Átlagos ár": "4769"
                                },
                                {
                                    "DVD stílusa": "nyelvtanító",
                                    "Átlagos ár": "4759,476190476191"
                                },
                                {
                                    "DVD stílusa": "csillagászat",
                                    "Átlagos ár": "4733,571428571428"
                                },
                                {
                                    "DVD stílusa": "ismeretterjesztő",
                                    "Átlagos ár": "4726,673913043478"
                                },
                                {
                                    "DVD stílusa": "irodalom, nyelv",
                                    "Átlagos ár": "4704"
                                },
                                {
                                    "DVD stílusa": "gasztronómia",
                                    "Átlagos ár": "4691"
                                },
                                {
                                    "DVD stílusa": "történelem",
                                    "Átlagos ár": "4655,731707317073"
                                },
                                {
                                    "DVD stílusa": "szótár",
                                    "Átlagos ár": "4624,428571428572"
                                },
                                {
                                    "DVD stílusa": "sport",
                                    "Átlagos ár": "4607"
                                },
                                {
                                    "DVD stílusa": "földrajz",
                                    "Átlagos ár": "4580,0625"
                                },
                                {
                                    "DVD stílusa": "matematika",
                                    "Átlagos ár": "4520,777777777777"
                                },
                                {
                                    "DVD stílusa": "felvételi",
                                    "Átlagos ár": "4501,333333333333"
                                }
                            ]
                        },
                        "text/html": [
                            "<table>",
                            "<tr><th>DVD stílusa</th><th>Átlagos ár</th></tr>",
                            "<tr><td>ásványtan</td><td>5624</td></tr>",
                            "<tr><td>játék (rodeó)</td><td>5591</td></tr>",
                            "<tr><td>humor</td><td>5573</td></tr>",
                            "<tr><td>környezetvédelem</td><td>5508</td></tr>",
                            "<tr><td>kresz</td><td>5476</td></tr>",
                            "<tr><td>játék (jégkorong)</td><td>5242</td></tr>",
                            "<tr><td>színház</td><td>5158</td></tr>",
                            "<tr><td>múvészet</td><td>5118</td></tr>",
                            "<tr><td>kémia</td><td>5094</td></tr>",
                            "<tr><td>fordító program</td><td>5036</td></tr>",
                            "<tr><td>kerttervező</td><td>4951</td></tr>",
                            "<tr><td>művészet</td><td>4939,25</td></tr>",
                            "<tr><td>festészet</td><td>4901</td></tr>",
                            "<tr><td>zene</td><td>4855,333333333333</td></tr>",
                            "<tr><td>játék</td><td>4850,466666666666</td></tr>",
                            "<tr><td>játék (labdarúgás)</td><td>4817,333333333333</td></tr>",
                            "<tr><td>állattan</td><td>4783,666666666667</td></tr>",
                            "<tr><td>nyelvtan</td><td>4770,666666666667</td></tr>",
                            "<tr><td>fizika</td><td>4769</td></tr>",
                            "<tr><td>nyelvtanító</td><td>4759,476190476191</td></tr>",
                            "<tr><td>csillagászat</td><td>4733,571428571428</td></tr>",
                            "<tr><td>ismeretterjesztő</td><td>4726,673913043478</td></tr>",
                            "<tr><td>irodalom, nyelv</td><td>4704</td></tr>",
                            "<tr><td>gasztronómia</td><td>4691</td></tr>",
                            "<tr><td>történelem</td><td>4655,731707317073</td></tr>",
                            "<tr><td>szótár</td><td>4624,428571428572</td></tr>",
                            "<tr><td>sport</td><td>4607</td></tr>",
                            "<tr><td>földrajz</td><td>4580,0625</td></tr>",
                            "<tr><td>matematika</td><td>4520,777777777777</td></tr>",
                            "<tr><td>felvételi</td><td>4501,333333333333</td></tr>",
                            "</table>"
                        ]
                    }
                }
            ],
            "execution_count": 3
        },
        {
            "cell_type": "markdown",
            "source": [
                "3. <span style=\"color:rgb(36, 41, 47);font-family:-apple-system, BlinkMacSystemFont, &quot;Segoe UI&quot;, Helvetica, Arial, sans-serif, &quot;Apple Color Emoji&quot;, &quot;Segoe UI Emoji&quot;;font-size:16px;\">Listázzuk nyelvenkénti, azon belül stílusonkénti bontásban, hogy mennyi a dvd-k legkisebb és legnagyobb ára!&nbsp;</span> \n",
                "\n",
                "<span style=\"font-size: 16px;\">a. Az oszlopok neve legyen 'Nyelv', 'Stílus', 'MinÁr' és 'MaxÁr'!<br>b.&nbsp;</span> A listából hagyjuk ki azokat a sorokat, ahol a nyelv vagy a stílus nincs megadva!  \n",
                "c. Szintén hagyjuk ki azokat a csoportokat, ahol a csoport elemszáma 3-nál kisebb!"
            ],
            "metadata": {
                "azdata_cell_guid": "9e7249de-1b59-43d8-84b1-26fa7d81fc5a"
            },
            "attachments": {}
        },
        {
            "cell_type": "code",
            "source": [
                "select lang as 'Nyelv',\r\n",
                "        stilus as 'Stílus',\r\n",
                "        min(nettoar) as 'MinÁr',\r\n",
                "        max(nettoar) as 'MaxÁr'\r\n",
                "from dvd\r\n",
                "where lang is not null and stilus is not null\r\n",
                "group by lang, stilus\r\n",
                "having count(*)>=3\r\n",
                ""
            ],
            "metadata": {
                "azdata_cell_guid": "6405d3e8-a9b1-45d7-aa76-3b1e785ef6cc",
                "language": "sql"
            },
            "outputs": [
                {
                    "output_type": "display_data",
                    "data": {
                        "text/html": "(25 rows affected)"
                    },
                    "metadata": {}
                },
                {
                    "output_type": "display_data",
                    "data": {
                        "text/html": "Total execution time: 00:00:00.023"
                    },
                    "metadata": {}
                },
                {
                    "output_type": "execute_result",
                    "metadata": {},
                    "execution_count": 4,
                    "data": {
                        "application/vnd.dataresource+json": {
                            "schema": {
                                "fields": [
                                    {
                                        "name": "Nyelv"
                                    },
                                    {
                                        "name": "Stílus"
                                    },
                                    {
                                        "name": "MinÁr"
                                    },
                                    {
                                        "name": "MaxÁr"
                                    }
                                ]
                            },
                            "data": [
                                {
                                    "Nyelv": "1",
                                    "Stílus": "állattan",
                                    "MinÁr": "4153",
                                    "MaxÁr": "5235"
                                },
                                {
                                    "Nyelv": "1",
                                    "Stílus": "biológia",
                                    "MinÁr": "3482",
                                    "MaxÁr": "5543"
                                },
                                {
                                    "Nyelv": "1",
                                    "Stílus": "csillagászat",
                                    "MinÁr": "3582",
                                    "MaxÁr": "5992"
                                },
                                {
                                    "Nyelv": "1",
                                    "Stílus": "felvételi",
                                    "MinÁr": "3215",
                                    "MaxÁr": "5955"
                                },
                                {
                                    "Nyelv": "1",
                                    "Stílus": "fizika",
                                    "MinÁr": "3734",
                                    "MaxÁr": "5763"
                                },
                                {
                                    "Nyelv": "1",
                                    "Stílus": "földrajz",
                                    "MinÁr": "3123",
                                    "MaxÁr": "6065"
                                },
                                {
                                    "Nyelv": "1",
                                    "Stílus": "gasztronómia",
                                    "MinÁr": "3258",
                                    "MaxÁr": "5706"
                                },
                                {
                                    "Nyelv": "1",
                                    "Stílus": "irodalom",
                                    "MinÁr": "3391",
                                    "MaxÁr": "5654"
                                },
                                {
                                    "Nyelv": "1",
                                    "Stílus": "ismeretterjesztő",
                                    "MinÁr": "3256",
                                    "MaxÁr": "6072"
                                },
                                {
                                    "Nyelv": "2",
                                    "Stílus": "ismeretterjesztő",
                                    "MinÁr": "5334",
                                    "MaxÁr": "5900"
                                },
                                {
                                    "Nyelv": "1",
                                    "Stílus": "játék",
                                    "MinÁr": "3110",
                                    "MaxÁr": "6078"
                                },
                                {
                                    "Nyelv": "2",
                                    "Stílus": "játék",
                                    "MinÁr": "3144",
                                    "MaxÁr": "6062"
                                },
                                {
                                    "Nyelv": "2",
                                    "Stílus": "játék (autóverseny)",
                                    "MinÁr": "3106",
                                    "MaxÁr": "5005"
                                },
                                {
                                    "Nyelv": "1",
                                    "Stílus": "matematika",
                                    "MinÁr": "3105",
                                    "MaxÁr": "5995"
                                },
                                {
                                    "Nyelv": "1",
                                    "Stílus": "művészet",
                                    "MinÁr": "3490",
                                    "MaxÁr": "6098"
                                },
                                {
                                    "Nyelv": "1",
                                    "Stílus": "nyelvtan",
                                    "MinÁr": "3688",
                                    "MaxÁr": "5845"
                                },
                                {
                                    "Nyelv": "2",
                                    "Stílus": "nyelvtanító",
                                    "MinÁr": "3115",
                                    "MaxÁr": "6068"
                                },
                                {
                                    "Nyelv": "3",
                                    "Stílus": "nyelvtanító",
                                    "MinÁr": "3313",
                                    "MaxÁr": "5990"
                                },
                                {
                                    "Nyelv": "4",
                                    "Stílus": "nyelvtanító",
                                    "MinÁr": "3419",
                                    "MaxÁr": "6082"
                                },
                                {
                                    "Nyelv": "6",
                                    "Stílus": "nyelvtanító",
                                    "MinÁr": "3775",
                                    "MaxÁr": "5882"
                                },
                                {
                                    "Nyelv": "7",
                                    "Stílus": "nyelvtanító",
                                    "MinÁr": "3770",
                                    "MaxÁr": "5619"
                                },
                                {
                                    "Nyelv": "1",
                                    "Stílus": "számítástechnika",
                                    "MinÁr": "3277",
                                    "MaxÁr": "5260"
                                },
                                {
                                    "Nyelv": "2",
                                    "Stílus": "szótár",
                                    "MinÁr": "3509",
                                    "MaxÁr": "5638"
                                },
                                {
                                    "Nyelv": "1",
                                    "Stílus": "történelem",
                                    "MinÁr": "3122",
                                    "MaxÁr": "6084"
                                },
                                {
                                    "Nyelv": "1",
                                    "Stílus": "zene",
                                    "MinÁr": "3391",
                                    "MaxÁr": "5730"
                                }
                            ]
                        },
                        "text/html": [
                            "<table>",
                            "<tr><th>Nyelv</th><th>Stílus</th><th>MinÁr</th><th>MaxÁr</th></tr>",
                            "<tr><td>1</td><td>állattan</td><td>4153</td><td>5235</td></tr>",
                            "<tr><td>1</td><td>biológia</td><td>3482</td><td>5543</td></tr>",
                            "<tr><td>1</td><td>csillagászat</td><td>3582</td><td>5992</td></tr>",
                            "<tr><td>1</td><td>felvételi</td><td>3215</td><td>5955</td></tr>",
                            "<tr><td>1</td><td>fizika</td><td>3734</td><td>5763</td></tr>",
                            "<tr><td>1</td><td>földrajz</td><td>3123</td><td>6065</td></tr>",
                            "<tr><td>1</td><td>gasztronómia</td><td>3258</td><td>5706</td></tr>",
                            "<tr><td>1</td><td>irodalom</td><td>3391</td><td>5654</td></tr>",
                            "<tr><td>1</td><td>ismeretterjesztő</td><td>3256</td><td>6072</td></tr>",
                            "<tr><td>2</td><td>ismeretterjesztő</td><td>5334</td><td>5900</td></tr>",
                            "<tr><td>1</td><td>játék</td><td>3110</td><td>6078</td></tr>",
                            "<tr><td>2</td><td>játék</td><td>3144</td><td>6062</td></tr>",
                            "<tr><td>2</td><td>játék (autóverseny)</td><td>3106</td><td>5005</td></tr>",
                            "<tr><td>1</td><td>matematika</td><td>3105</td><td>5995</td></tr>",
                            "<tr><td>1</td><td>művészet</td><td>3490</td><td>6098</td></tr>",
                            "<tr><td>1</td><td>nyelvtan</td><td>3688</td><td>5845</td></tr>",
                            "<tr><td>2</td><td>nyelvtanító</td><td>3115</td><td>6068</td></tr>",
                            "<tr><td>3</td><td>nyelvtanító</td><td>3313</td><td>5990</td></tr>",
                            "<tr><td>4</td><td>nyelvtanító</td><td>3419</td><td>6082</td></tr>",
                            "<tr><td>6</td><td>nyelvtanító</td><td>3775</td><td>5882</td></tr>",
                            "<tr><td>7</td><td>nyelvtanító</td><td>3770</td><td>5619</td></tr>",
                            "<tr><td>1</td><td>számítástechnika</td><td>3277</td><td>5260</td></tr>",
                            "<tr><td>2</td><td>szótár</td><td>3509</td><td>5638</td></tr>",
                            "<tr><td>1</td><td>történelem</td><td>3122</td><td>6084</td></tr>",
                            "<tr><td>1</td><td>zene</td><td>3391</td><td>5730</td></tr>",
                            "</table>"
                        ]
                    }
                }
            ],
            "execution_count": 4
        },
        {
            "cell_type": "markdown",
            "source": [
                "4. <span style=\"color: rgb(36, 41, 47); font-family: -apple-system, BlinkMacSystemFont, &quot;Segoe UI&quot;, Helvetica, Arial, sans-serif, &quot;Apple Color Emoji&quot;, &quot;Segoe UI Emoji&quot;; font-size: 16px;\">Készítsünk listát, amely a csoportokat hoz létre aszerint, hogy a mai naptól számítva hány nap telt el a kölcsönzés kezdete óta. A lista jelenítse meg csoportonkénti bontásban a kikölcsönzött dvd-k számát!</span>\n",
                "\n",
                "1. Az oszlopokat nevezzük el értelemszerűen!\n",
                "2. A listát rendezzük az eltelt napok száma szerint csökkenő sorrendbe!"
            ],
            "metadata": {
                "azdata_cell_guid": "6478e469-c094-472c-a772-ccd5b5c61516"
            },
            "attachments": {}
        },
        {
            "cell_type": "code",
            "source": [
                "select datediff(day, ki_datum, GETDATE()) as 'Eltelt napok',\r\n",
                "        count(*) as \"Kölcsönzések száma\"\r\n",
                "from kolcsonzesek\r\n",
                "group by datediff(day, ki_datum, GETDATE())\r\n",
                "order by datediff(day, ki_datum, GETDATE()) DESC"
            ],
            "metadata": {
                "azdata_cell_guid": "02031ea2-3838-458d-839c-228e3b362b61",
                "language": "sql"
            },
            "outputs": [
                {
                    "output_type": "display_data",
                    "data": {
                        "text/html": "(3 rows affected)"
                    },
                    "metadata": {}
                },
                {
                    "output_type": "display_data",
                    "data": {
                        "text/html": "Total execution time: 00:00:00.014"
                    },
                    "metadata": {}
                },
                {
                    "output_type": "execute_result",
                    "metadata": {},
                    "execution_count": 5,
                    "data": {
                        "application/vnd.dataresource+json": {
                            "schema": {
                                "fields": [
                                    {
                                        "name": "Eltelt napok"
                                    },
                                    {
                                        "name": "Kölcsönzések száma"
                                    }
                                ]
                            },
                            "data": [
                                {
                                    "Eltelt napok": "7380",
                                    "Kölcsönzések száma": "3"
                                },
                                {
                                    "Eltelt napok": "6355",
                                    "Kölcsönzések száma": "1"
                                },
                                {
                                    "Eltelt napok": "6354",
                                    "Kölcsönzések száma": "1"
                                }
                            ]
                        },
                        "text/html": [
                            "<table>",
                            "<tr><th>Eltelt napok</th><th>Kölcsönzések száma</th></tr>",
                            "<tr><td>7380</td><td>3</td></tr>",
                            "<tr><td>6355</td><td>1</td></tr>",
                            "<tr><td>6354</td><td>1</td></tr>",
                            "</table>"
                        ]
                    }
                }
            ],
            "execution_count": 5
        },
        {
            "cell_type": "markdown",
            "source": [
                "5. <span style=\"color: rgb(36, 41, 47); font-family: -apple-system, BlinkMacSystemFont, &quot;Segoe UI&quot;, Helvetica, Arial, sans-serif, &quot;Apple Color Emoji&quot;, &quot;Segoe UI Emoji&quot;; font-size: 16px;\">A kölcsönző tulajdonosa elhatározza, hogy ezentúl kerekebb árakat alkalmaz. Ezért minden dvd árát 1000 Ft-ra kerekíti. Készítsünk lekérdezést, amely megmutatja, hogy melyik 1000 Ft-ra kerekített ár szerint, azon belül stílus szerint hány db dvd összesen raktáron! **</span>\n",
                "\n",
                "1. Csak olyan csoportokat listázzunk, ahol a raktárkészlet legalább 30!\n",
                "2. A listát rendezzük kerekített ár szerint, azon belül raktárkészlet szerint növekvő sorrendbe!"
            ],
            "metadata": {
                "azdata_cell_guid": "9edbbaf9-c276-4898-9a01-e1b2993c089f"
            },
            "attachments": {}
        },
        {
            "cell_type": "code",
            "source": [
                "select round(nettoar,-3) as 'Kerekített ár',\r\n",
                "        stilus as 'Stílus',\r\n",
                "        sum([raktár készlet]) as 'Raktár db'\r\n",
                "FROM dvd\r\n",
                "group by round(nettoar,-3), stilus\r\n",
                "having sum([raktár készlet])>=30\r\n",
                "order by round(nettoar,-3) asc, sum([raktár készlet]) asc"
            ],
            "metadata": {
                "azdata_cell_guid": "5ad5fdcb-2878-4111-861a-833bcd50e935",
                "language": "sql"
            },
            "outputs": [
                {
                    "output_type": "display_data",
                    "data": {
                        "text/html": "(27 rows affected)"
                    },
                    "metadata": {}
                },
                {
                    "output_type": "display_data",
                    "data": {
                        "text/html": "Total execution time: 00:00:00.021"
                    },
                    "metadata": {}
                },
                {
                    "output_type": "execute_result",
                    "metadata": {},
                    "execution_count": 8,
                    "data": {
                        "application/vnd.dataresource+json": {
                            "schema": {
                                "fields": [
                                    {
                                        "name": "Kerekített ár"
                                    },
                                    {
                                        "name": "Stílus"
                                    },
                                    {
                                        "name": "Raktár db"
                                    }
                                ]
                            },
                            "data": [
                                {
                                    "Kerekített ár": "3000",
                                    "Stílus": "földrajz",
                                    "Raktár db": "30"
                                },
                                {
                                    "Kerekített ár": "3000",
                                    "Stílus": "nyelvtanító",
                                    "Raktár db": "30"
                                },
                                {
                                    "Kerekített ár": "3000",
                                    "Stílus": "játék",
                                    "Raktár db": "40"
                                },
                                {
                                    "Kerekített ár": "3000",
                                    "Stílus": "történelem",
                                    "Raktár db": "40"
                                },
                                {
                                    "Kerekített ár": "3000",
                                    "Stílus": "ismeretterjesztő",
                                    "Raktár db": "70"
                                },
                                {
                                    "Kerekített ár": "4000",
                                    "Stílus": "szótár",
                                    "Raktár db": "30"
                                },
                                {
                                    "Kerekített ár": "4000",
                                    "Stílus": "csillagászat",
                                    "Raktár db": "40"
                                },
                                {
                                    "Kerekített ár": "4000",
                                    "Stílus": "földrajz",
                                    "Raktár db": "50"
                                },
                                {
                                    "Kerekített ár": "4000",
                                    "Stílus": "irodalom",
                                    "Raktár db": "90"
                                },
                                {
                                    "Kerekített ár": "4000",
                                    "Stílus": "ismeretterjesztő",
                                    "Raktár db": "130"
                                },
                                {
                                    "Kerekített ár": "4000",
                                    "Stílus": "nyelvtanító",
                                    "Raktár db": "140"
                                },
                                {
                                    "Kerekített ár": "4000",
                                    "Stílus": "történelem",
                                    "Raktár db": "160"
                                },
                                {
                                    "Kerekített ár": "4000",
                                    "Stílus": "játék",
                                    "Raktár db": "180"
                                },
                                {
                                    "Kerekített ár": "5000",
                                    "Stílus": "irodalom",
                                    "Raktár db": "30"
                                },
                                {
                                    "Kerekített ár": "5000",
                                    "Stílus": "matematika",
                                    "Raktár db": "30"
                                },
                                {
                                    "Kerekített ár": "5000",
                                    "Stílus": "zene",
                                    "Raktár db": "30"
                                },
                                {
                                    "Kerekített ár": "5000",
                                    "Stílus": "földrajz",
                                    "Raktár db": "60"
                                },
                                {
                                    "Kerekített ár": "5000",
                                    "Stílus": "történelem",
                                    "Raktár db": "120"
                                },
                                {
                                    "Kerekített ár": "5000",
                                    "Stílus": "nyelvtanító",
                                    "Raktár db": "140"
                                },
                                {
                                    "Kerekített ár": "5000",
                                    "Stílus": "ismeretterjesztő",
                                    "Raktár db": "170"
                                },
                                {
                                    "Kerekített ár": "5000",
                                    "Stílus": "játék",
                                    "Raktár db": "210"
                                },
                                {
                                    "Kerekített ár": "6000",
                                    "Stílus": "csillagászat",
                                    "Raktár db": "30"
                                },
                                {
                                    "Kerekített ár": "6000",
                                    "Stílus": "irodalom",
                                    "Raktár db": "30"
                                },
                                {
                                    "Kerekített ár": "6000",
                                    "Stílus": "történelem",
                                    "Raktár db": "88"
                                },
                                {
                                    "Kerekített ár": "6000",
                                    "Stílus": "ismeretterjesztő",
                                    "Raktár db": "90"
                                },
                                {
                                    "Kerekített ár": "6000",
                                    "Stílus": "nyelvtanító",
                                    "Raktár db": "110"
                                },
                                {
                                    "Kerekített ár": "6000",
                                    "Stílus": "játék",
                                    "Raktár db": "170"
                                }
                            ]
                        },
                        "text/html": [
                            "<table>",
                            "<tr><th>Kerekített ár</th><th>Stílus</th><th>Raktár db</th></tr>",
                            "<tr><td>3000</td><td>földrajz</td><td>30</td></tr>",
                            "<tr><td>3000</td><td>nyelvtanító</td><td>30</td></tr>",
                            "<tr><td>3000</td><td>játék</td><td>40</td></tr>",
                            "<tr><td>3000</td><td>történelem</td><td>40</td></tr>",
                            "<tr><td>3000</td><td>ismeretterjesztő</td><td>70</td></tr>",
                            "<tr><td>4000</td><td>szótár</td><td>30</td></tr>",
                            "<tr><td>4000</td><td>csillagászat</td><td>40</td></tr>",
                            "<tr><td>4000</td><td>földrajz</td><td>50</td></tr>",
                            "<tr><td>4000</td><td>irodalom</td><td>90</td></tr>",
                            "<tr><td>4000</td><td>ismeretterjesztő</td><td>130</td></tr>",
                            "<tr><td>4000</td><td>nyelvtanító</td><td>140</td></tr>",
                            "<tr><td>4000</td><td>történelem</td><td>160</td></tr>",
                            "<tr><td>4000</td><td>játék</td><td>180</td></tr>",
                            "<tr><td>5000</td><td>irodalom</td><td>30</td></tr>",
                            "<tr><td>5000</td><td>matematika</td><td>30</td></tr>",
                            "<tr><td>5000</td><td>zene</td><td>30</td></tr>",
                            "<tr><td>5000</td><td>földrajz</td><td>60</td></tr>",
                            "<tr><td>5000</td><td>történelem</td><td>120</td></tr>",
                            "<tr><td>5000</td><td>nyelvtanító</td><td>140</td></tr>",
                            "<tr><td>5000</td><td>ismeretterjesztő</td><td>170</td></tr>",
                            "<tr><td>5000</td><td>játék</td><td>210</td></tr>",
                            "<tr><td>6000</td><td>csillagászat</td><td>30</td></tr>",
                            "<tr><td>6000</td><td>irodalom</td><td>30</td></tr>",
                            "<tr><td>6000</td><td>történelem</td><td>88</td></tr>",
                            "<tr><td>6000</td><td>ismeretterjesztő</td><td>90</td></tr>",
                            "<tr><td>6000</td><td>nyelvtanító</td><td>110</td></tr>",
                            "<tr><td>6000</td><td>játék</td><td>170</td></tr>",
                            "</table>"
                        ]
                    }
                }
            ],
            "execution_count": 8
        },
        {
            "cell_type": "markdown",
            "source": [
                "6. <span style=\"font-weight: 600; color: rgb(36, 41, 47); font-family: -apple-system, BlinkMacSystemFont, &quot;Segoe UI&quot;, Helvetica, Arial, sans-serif, &quot;Apple Color Emoji&quot;, &quot;Segoe UI Emoji&quot;; font-size: 16px;\">A dvd-ket csoportosíthatjuk aszerint, hogy milyen hosszú a címük. Amelyiknél a cím hosszúsága 10 karakter alatt van, az legyen Rövid, 10-20-ig Átlagos, 20 felett Hosszú. Hány Rövid, Átlagos, illetve Hosszú dvd-van összesen raktáron?</span>\n",
                "\n",
                "1. Az oszlopok neve legyen 'Cím hosszúság' és 'Darabszám"
            ],
            "metadata": {
                "azdata_cell_guid": "5fe65c1c-2479-45ac-ad03-ec99d12eae21"
            },
            "attachments": {}
        },
        {
            "cell_type": "code",
            "source": [
                "select  case \r\n",
                "        when len(cim)<10 then 'Rövid'\r\n",
                "        when len(cim)>20 then 'Hosszú'\r\n",
                "        else 'Átlagos'\r\n",
                "        end as 'Cím hosszúsága',\r\n",
                "        sum([raktár készlet]) as 'Darabszám'\r\n",
                "from dvd\r\n",
                "group by case \r\n",
                "        when len(cim)<10 then 'Rövid'\r\n",
                "        when len(cim)>20 then 'Hosszú'\r\n",
                "        else 'Átlagos'\r\n",
                "        end"
            ],
            "metadata": {
                "azdata_cell_guid": "924f2dde-f1c2-4def-a7f9-dbf4bace7735",
                "language": "sql"
            },
            "outputs": [
                {
                    "output_type": "display_data",
                    "data": {
                        "text/html": "(3 rows affected)"
                    },
                    "metadata": {}
                },
                {
                    "output_type": "display_data",
                    "data": {
                        "text/html": "Total execution time: 00:00:00.014"
                    },
                    "metadata": {}
                },
                {
                    "output_type": "execute_result",
                    "metadata": {},
                    "execution_count": 19,
                    "data": {
                        "application/vnd.dataresource+json": {
                            "schema": {
                                "fields": [
                                    {
                                        "name": "Cím hosszúsága"
                                    },
                                    {
                                        "name": "Darabszám"
                                    }
                                ]
                            },
                            "data": [
                                {
                                    "Cím hosszúsága": "Átlagos",
                                    "Darabszám": "940"
                                },
                                {
                                    "Cím hosszúsága": "Hosszú",
                                    "Darabszám": "2118"
                                },
                                {
                                    "Cím hosszúsága": "Rövid",
                                    "Darabszám": "120"
                                }
                            ]
                        },
                        "text/html": [
                            "<table>",
                            "<tr><th>Cím hosszúsága</th><th>Darabszám</th></tr>",
                            "<tr><td>Átlagos</td><td>940</td></tr>",
                            "<tr><td>Hosszú</td><td>2118</td></tr>",
                            "<tr><td>Rövid</td><td>120</td></tr>",
                            "</table>"
                        ]
                    }
                }
            ],
            "execution_count": 19
        },
        {
            "cell_type": "markdown",
            "source": [
                "7. <span style=\"color: rgb(36, 41, 47); font-family: -apple-system, BlinkMacSystemFont, &quot;Segoe UI&quot;, Helvetica, Arial, sans-serif, &quot;Apple Color Emoji&quot;, &quot;Segoe UI Emoji&quot;; font-size: 16px;\">Készítsünk listát arról, hogy melyik teremben hány óra van!</span>\n",
                "\n",
                "1. Jelenítsük meg a termek azonosítóit és a teremben tartott órák számát!\n",
                "2. Az oszlopokat nevezzük el értelemszerűen!\n",
                "3. Szűrjünk azokra a termekre, ahol az órák száma legalább 3!"
            ],
            "metadata": {
                "azdata_cell_guid": "3aeb6bf5-b111-40d5-92b2-9712ce335696"
            },
            "attachments": {}
        },
        {
            "cell_type": "code",
            "source": [
                "select terem as 'Teremkód',\r\n",
                "        count(*) as 'Órák száma'\r\n",
                "from Orak\r\n",
                "group by terem\r\n",
                "having count(*)>=3\r\n",
                "\r\n",
                "\r\n",
                "\r\n",
                ""
            ],
            "metadata": {
                "azdata_cell_guid": "3e89b651-f56f-4102-af52-30eb2bbe360d",
                "language": "sql"
            },
            "outputs": [
                {
                    "output_type": "display_data",
                    "data": {
                        "text/html": "(11 rows affected)"
                    },
                    "metadata": {}
                },
                {
                    "output_type": "display_data",
                    "data": {
                        "text/html": "Total execution time: 00:00:00.016"
                    },
                    "metadata": {}
                },
                {
                    "output_type": "execute_result",
                    "metadata": {},
                    "execution_count": 22,
                    "data": {
                        "application/vnd.dataresource+json": {
                            "schema": {
                                "fields": [
                                    {
                                        "name": "Teremkód"
                                    },
                                    {
                                        "name": "Órák száma"
                                    }
                                ]
                            },
                            "data": [
                                {
                                    "Teremkód": "2",
                                    "Órák száma": "5"
                                },
                                {
                                    "Teremkód": "3",
                                    "Órák száma": "11"
                                },
                                {
                                    "Teremkód": "4",
                                    "Órák száma": "8"
                                },
                                {
                                    "Teremkód": "5",
                                    "Órák száma": "5"
                                },
                                {
                                    "Teremkód": "6",
                                    "Órák száma": "6"
                                },
                                {
                                    "Teremkód": "7",
                                    "Órák száma": "6"
                                },
                                {
                                    "Teremkód": "8",
                                    "Órák száma": "6"
                                },
                                {
                                    "Teremkód": "10",
                                    "Órák száma": "3"
                                },
                                {
                                    "Teremkód": "12",
                                    "Órák száma": "3"
                                },
                                {
                                    "Teremkód": "13",
                                    "Órák száma": "5"
                                },
                                {
                                    "Teremkód": "14",
                                    "Órák száma": "3"
                                }
                            ]
                        },
                        "text/html": [
                            "<table>",
                            "<tr><th>Teremkód</th><th>Órák száma</th></tr>",
                            "<tr><td>2</td><td>5</td></tr>",
                            "<tr><td>3</td><td>11</td></tr>",
                            "<tr><td>4</td><td>8</td></tr>",
                            "<tr><td>5</td><td>5</td></tr>",
                            "<tr><td>6</td><td>6</td></tr>",
                            "<tr><td>7</td><td>6</td></tr>",
                            "<tr><td>8</td><td>6</td></tr>",
                            "<tr><td>10</td><td>3</td></tr>",
                            "<tr><td>12</td><td>3</td></tr>",
                            "<tr><td>13</td><td>5</td></tr>",
                            "<tr><td>14</td><td>3</td></tr>",
                            "</table>"
                        ]
                    }
                }
            ],
            "execution_count": 22
        },
        {
            "cell_type": "markdown",
            "source": [
                "8. <span style=\"color: rgb(36, 41, 47); font-family: -apple-system, BlinkMacSystemFont, &quot;Segoe UI&quot;, Helvetica, Arial, sans-serif, &quot;Apple Color Emoji&quot;, &quot;Segoe UI Emoji&quot;; font-size: 16px;\">Készítsünk lekérdezést, amely megadja, hogy minimálian és maximálisan hány kreditet ér egy tantárgy!</span>\n",
                "\n",
                "1. Az oszlopokat nevezzük el értelemszerűen!\n",
                "2. Ne vegyük figyelembe azokat a tantárgyakat, amelyek nevében az „alapjai” szó szerepel, vagy a tantárgy neve 10 karakternél rövidebb!"
            ],
            "metadata": {
                "azdata_cell_guid": "26a504dc-ff6a-439f-94c0-4580eca3eacf"
            },
            "attachments": {}
        },
        {
            "cell_type": "code",
            "source": [
                "select  min(kredit) as 'Minimum kredit szám',\r\n",
                "        max(kredit) as 'Maximum kredit szám'\r\n",
                "from Tantárgyak\r\n",
                "where tantárgynév not like '%alapjai%' and len(Tantárgynév)>=10\r\n",
                "\r\n",
                ""
            ],
            "metadata": {
                "azdata_cell_guid": "1cbb8aeb-78b5-4350-aa45-e3202fdab85b",
                "language": "sql"
            },
            "outputs": [
                {
                    "output_type": "display_data",
                    "data": {
                        "text/html": "(1 row affected)"
                    },
                    "metadata": {}
                },
                {
                    "output_type": "display_data",
                    "data": {
                        "text/html": "Total execution time: 00:00:00.017"
                    },
                    "metadata": {}
                },
                {
                    "output_type": "execute_result",
                    "metadata": {},
                    "execution_count": 31,
                    "data": {
                        "application/vnd.dataresource+json": {
                            "schema": {
                                "fields": [
                                    {
                                        "name": "Minimum kredit szám"
                                    },
                                    {
                                        "name": "Maximum kredit szám"
                                    }
                                ]
                            },
                            "data": [
                                {
                                    "Minimum kredit szám": "1",
                                    "Maximum kredit szám": "5"
                                }
                            ]
                        },
                        "text/html": [
                            "<table>",
                            "<tr><th>Minimum kredit szám</th><th>Maximum kredit szám</th></tr>",
                            "<tr><td>1</td><td>5</td></tr>",
                            "</table>"
                        ]
                    }
                }
            ],
            "execution_count": 31
        },
        {
            "cell_type": "markdown",
            "source": [
                "9. <span style=\"color: rgb(36, 41, 47); font-family: -apple-system, BlinkMacSystemFont, &quot;Segoe UI&quot;, Helvetica, Arial, sans-serif, &quot;Apple Color Emoji&quot;, &quot;Segoe UI Emoji&quot;; font-size: 16px;\">A tapasztalat alapján a tanársegédeknek 8, az óraadóknak 10 órájuk van egy héten. A többiek annyi órát tartanak, amennyi az elvárt óraszámuk. Készítsünk lekérdezést, amely minden beosztáshoz megjeleníti, hogy hetente hány túlóra tartozik hozzá!</span>\n",
                "\n",
                "1. A lekérdezés csak a beosztások nevét és a heti túlórák számát jelenítse meg!"
            ],
            "metadata": {
                "azdata_cell_guid": "435e2860-2dd5-4877-90f4-34a43baeb53c"
            },
            "attachments": {}
        },
        {
            "cell_type": "code",
            "source": [
                "select beosztasnev,\r\n",
                "        case \r\n",
                "        when beosztasnev='tanársegéd' then 8\r\n",
                "        when beosztasnev='óraadó' then 10\r\n",
                "        else elvart\r\n",
                "        end as 'Túlóra szám'\r\n",
                "from beosztasok"
            ],
            "metadata": {
                "azdata_cell_guid": "ce846351-ddbe-4d8e-b8fb-2a92c73ac80b",
                "language": "sql"
            },
            "outputs": [
                {
                    "output_type": "display_data",
                    "data": {
                        "text/html": "(7 rows affected)"
                    },
                    "metadata": {}
                },
                {
                    "output_type": "display_data",
                    "data": {
                        "text/html": "Total execution time: 00:00:00.010"
                    },
                    "metadata": {}
                },
                {
                    "output_type": "execute_result",
                    "metadata": {},
                    "execution_count": 34,
                    "data": {
                        "application/vnd.dataresource+json": {
                            "schema": {
                                "fields": [
                                    {
                                        "name": "beosztasnev"
                                    },
                                    {
                                        "name": "Túlóra szám"
                                    }
                                ]
                            },
                            "data": [
                                {
                                    "beosztasnev": "Óraadó",
                                    "Túlóra szám": "10"
                                },
                                {
                                    "beosztasnev": "Tanársegéd",
                                    "Túlóra szám": "8"
                                },
                                {
                                    "beosztasnev": "Adjunktus",
                                    "Túlóra szám": "5"
                                },
                                {
                                    "beosztasnev": "Docens",
                                    "Túlóra szám": "4"
                                },
                                {
                                    "beosztasnev": "Professzor",
                                    "Túlóra szám": "3"
                                },
                                {
                                    "beosztasnev": "Egyetemi tanár",
                                    "Túlóra szám": "2"
                                },
                                {
                                    "beosztasnev": "Tudományos munkatárs",
                                    "Túlóra szám": "4"
                                }
                            ]
                        },
                        "text/html": [
                            "<table>",
                            "<tr><th>beosztasnev</th><th>Túlóra szám</th></tr>",
                            "<tr><td>Óraadó</td><td>10</td></tr>",
                            "<tr><td>Tanársegéd</td><td>8</td></tr>",
                            "<tr><td>Adjunktus</td><td>5</td></tr>",
                            "<tr><td>Docens</td><td>4</td></tr>",
                            "<tr><td>Professzor</td><td>3</td></tr>",
                            "<tr><td>Egyetemi tanár</td><td>2</td></tr>",
                            "<tr><td>Tudományos munkatárs</td><td>4</td></tr>",
                            "</table>"
                        ]
                    }
                }
            ],
            "execution_count": 34
        },
        {
            "cell_type": "markdown",
            "source": [
                "10. <span style=\"font-weight: 600; color: rgb(36, 41, 47); font-family: -apple-system, BlinkMacSystemFont, &quot;Segoe UI&quot;, Helvetica, Arial, sans-serif, &quot;Apple Color Emoji&quot;, &quot;Segoe UI Emoji&quot;; font-size: 16px;\">Melyek azok az oktatók, akiknek nincs órájuk?</span>\n",
                "\n",
                "1. Csak az oktatók neve jelenjen meg!\n",
                "2. ÖTLET: használjunk LEFT JOIN-t, és szűrjünk azokra a rekordokra, ahol NULL érték van a JOIN utáni feltétel jobb oldalán!"
            ],
            "metadata": {
                "azdata_cell_guid": "217c5772-afe2-4a7c-b913-e3a3e09d6411"
            },
            "attachments": {}
        },
        {
            "cell_type": "code",
            "source": [
                "select o.nev\r\n",
                "from Oktatok o left join Orak ora on oktato_id=tanar\r\n",
                "where nap is null\r\n",
                ""
            ],
            "metadata": {
                "azdata_cell_guid": "a9cc0926-3dbd-4ed8-8179-1c39d64a0762",
                "language": "sql"
            },
            "outputs": [
                {
                    "output_type": "display_data",
                    "data": {
                        "text/html": "(5 rows affected)"
                    },
                    "metadata": {}
                },
                {
                    "output_type": "display_data",
                    "data": {
                        "text/html": "Total execution time: 00:00:00.017"
                    },
                    "metadata": {}
                },
                {
                    "output_type": "execute_result",
                    "metadata": {},
                    "execution_count": 38,
                    "data": {
                        "application/vnd.dataresource+json": {
                            "schema": {
                                "fields": [
                                    {
                                        "name": "nev"
                                    }
                                ]
                            },
                            "data": [
                                {
                                    "nev": "Józsa Gábor"
                                },
                                {
                                    "nev": "Rácz András"
                                },
                                {
                                    "nev": "Kiss István"
                                },
                                {
                                    "nev": "Mészáros Kriszta"
                                },
                                {
                                    "nev": "Kovacs Istvan"
                                }
                            ]
                        },
                        "text/html": [
                            "<table>",
                            "<tr><th>nev</th></tr>",
                            "<tr><td>Józsa Gábor</td></tr>",
                            "<tr><td>Rácz András</td></tr>",
                            "<tr><td>Kiss István</td></tr>",
                            "<tr><td>Mészáros Kriszta</td></tr>",
                            "<tr><td>Kovacs Istvan</td></tr>",
                            "</table>"
                        ]
                    }
                }
            ],
            "execution_count": 38
        },
        {
            "cell_type": "markdown",
            "source": [
                "11. <span style=\"font-weight: 600; color: rgb(36, 41, 47); font-family: -apple-system, BlinkMacSystemFont, &quot;Segoe UI&quot;, Helvetica, Arial, sans-serif, &quot;Apple Color Emoji&quot;, &quot;Segoe UI Emoji&quot;; font-size: 16px;\">Készítsünk lekérdezést, amely részletesen megjeleníti az egyes órák fontosabb adatait, azaz</span>\n",
                "\n",
                "1. Az órák azonosítóit, a tanár nevét, a tantárgy nevét, a terem nevét és a kezdési időpontot!\n",
                "2. Az oszlopokat nevezzük el értelemszerűen!"
            ],
            "metadata": {
                "azdata_cell_guid": "d2340f5f-1614-473c-b937-85740d67f7c1"
            },
            "attachments": {}
        },
        {
            "cell_type": "code",
            "source": [
                "select  o.ora_id as 'Óra azonosító',\r\n",
                "        okt.nev as 'Tanár neve',\r\n",
                "        t.tantárgynév as 'Tantárgy név',\r\n",
                "        ter.terem as 'Terem név',\r\n",
                "        s.időpont as 'Kezdés időpontja'\r\n",
                "from orak o inner join oktatok okt on o.tanar=okt.oktato_id\r\n",
                "            inner join tantárgyak t on o.targy=t.Tkód\r\n",
                "            inner join savok s on o.sav=s.sav_id\r\n",
                "            inner join termek ter on o.terem=ter.tkód"
            ],
            "metadata": {
                "azdata_cell_guid": "e99c2c53-898f-4787-b0e6-182d106dc16f",
                "language": "sql",
                "tags": []
            },
            "outputs": [
                {
                    "output_type": "display_data",
                    "data": {
                        "text/html": "(67 rows affected)"
                    },
                    "metadata": {}
                },
                {
                    "output_type": "display_data",
                    "data": {
                        "text/html": "Total execution time: 00:00:00.076"
                    },
                    "metadata": {}
                },
                {
                    "output_type": "execute_result",
                    "metadata": {},
                    "execution_count": 45,
                    "data": {
                        "application/vnd.dataresource+json": {
                            "schema": {
                                "fields": [
                                    {
                                        "name": "Óra azonosító"
                                    },
                                    {
                                        "name": "Tanár neve"
                                    },
                                    {
                                        "name": "Tantárgy név"
                                    },
                                    {
                                        "name": "Terem név"
                                    },
                                    {
                                        "name": "Kezdés időpontja"
                                    }
                                ]
                            },
                            "data": [
                                {
                                    "Óra azonosító": "159",
                                    "Tanár neve": "Ujfalussi István",
                                    "Tantárgy név": "Az ürgeöntés alapjai",
                                    "Terem név": "117",
                                    "Kezdés időpontja": "8.00"
                                },
                                {
                                    "Óra azonosító": "160",
                                    "Tanár neve": "Pelikán József",
                                    "Tantárgy név": "Az ürgeöntés alapjai",
                                    "Terem név": "118",
                                    "Kezdés időpontja": "14.00"
                                },
                                {
                                    "Óra azonosító": "161",
                                    "Tanár neve": "Pelikán József",
                                    "Tantárgy név": "Az ürgeöntés alapjai",
                                    "Terem név": "118",
                                    "Kezdés időpontja": "9.30"
                                },
                                {
                                    "Óra azonosító": "162",
                                    "Tanár neve": "Kovács András",
                                    "Tantárgy név": "Az ürgeöntés alapjai",
                                    "Terem név": "119",
                                    "Kezdés időpontja": "12.30"
                                },
                                {
                                    "Óra azonosító": "163",
                                    "Tanár neve": "Szerb László",
                                    "Tantárgy név": "Az ürgeöntés alapjai",
                                    "Terem név": "120",
                                    "Kezdés időpontja": "9.30"
                                },
                                {
                                    "Óra azonosító": "164",
                                    "Tanár neve": "Kiss János",
                                    "Tantárgy név": "Az ürgeöntés alapjai",
                                    "Terem név": "119",
                                    "Kezdés időpontja": "11.00"
                                },
                                {
                                    "Óra azonosító": "165",
                                    "Tanár neve": "Szerb László",
                                    "Tantárgy név": "Az ürgeöntés alapjai",
                                    "Terem név": "119",
                                    "Kezdés időpontja": "11.00"
                                },
                                {
                                    "Óra azonosító": "166",
                                    "Tanár neve": "Szerb László",
                                    "Tantárgy név": "Az ürgeöntés alapjai",
                                    "Terem név": "119",
                                    "Kezdés időpontja": "12.30"
                                },
                                {
                                    "Óra azonosító": "167",
                                    "Tanár neve": "Szentágotai Istvás",
                                    "Tantárgy név": "Az ürgeöntés alapjai",
                                    "Terem név": "120",
                                    "Kezdés időpontja": "12.30"
                                },
                                {
                                    "Óra azonosító": "168",
                                    "Tanár neve": "Ujfalussi István",
                                    "Tantárgy név": "Az ürgeöntés alapjai",
                                    "Terem név": "217",
                                    "Kezdés időpontja": "11.00"
                                },
                                {
                                    "Óra azonosító": "169",
                                    "Tanár neve": "Kovács András",
                                    "Tantárgy név": "Az ürgeöntés alapjai",
                                    "Terem név": "218",
                                    "Kezdés időpontja": "9.30"
                                },
                                {
                                    "Óra azonosító": "170",
                                    "Tanár neve": "Ludas Mátyás",
                                    "Tantárgy név": "Az ürgeöntés alapjai",
                                    "Terem név": "120",
                                    "Kezdés időpontja": "9.30"
                                },
                                {
                                    "Óra azonosító": "171",
                                    "Tanár neve": "Szénási ászló",
                                    "Tantárgy név": "Az ürgeöntés alapjai",
                                    "Terem név": "220",
                                    "Kezdés időpontja": "9.30"
                                },
                                {
                                    "Óra azonosító": "172",
                                    "Tanár neve": "Kiss János",
                                    "Tantárgy név": "Az ürgeöntés alapjai",
                                    "Terem név": "119",
                                    "Kezdés időpontja": "9.30"
                                },
                                {
                                    "Óra azonosító": "173",
                                    "Tanár neve": "Kovács András",
                                    "Tantárgy név": "Az ürgeöntés alapjai",
                                    "Terem név": "119",
                                    "Kezdés időpontja": "11.00"
                                },
                                {
                                    "Óra azonosító": "174",
                                    "Tanár neve": "Ludas Mátyás",
                                    "Tantárgy név": "Az ürgeöntés alapjai",
                                    "Terem név": "219",
                                    "Kezdés időpontja": "11.00"
                                },
                                {
                                    "Óra azonosító": "175",
                                    "Tanár neve": "Szénási ászló",
                                    "Tantárgy név": "Az ürgeöntés alapjai",
                                    "Terem név": "120",
                                    "Kezdés időpontja": "12.30"
                                },
                                {
                                    "Óra azonosító": "176",
                                    "Tanár neve": "Kovács András",
                                    "Tantárgy név": "Az ürgeöntés alapjai",
                                    "Terem név": "118",
                                    "Kezdés időpontja": "12.30"
                                },
                                {
                                    "Óra azonosító": "177",
                                    "Tanár neve": "Szentágotai Istvás",
                                    "Tantárgy név": "Az ürgeöntés alapjai",
                                    "Terem név": "119",
                                    "Kezdés időpontja": "14.00"
                                },
                                {
                                    "Óra azonosító": "178",
                                    "Tanár neve": "Vitéz János",
                                    "Tantárgy név": "Az ürgeöntés alapjai",
                                    "Terem név": "220",
                                    "Kezdés időpontja": "14.00"
                                },
                                {
                                    "Óra azonosító": "179",
                                    "Tanár neve": "Szentágotai Istvás",
                                    "Tantárgy név": "Az ürgeöntés alapjai",
                                    "Terem név": "120",
                                    "Kezdés időpontja": "15.30"
                                },
                                {
                                    "Óra azonosító": "180",
                                    "Tanár neve": "Vitéz János",
                                    "Tantárgy név": "Az ürgeöntés alapjai",
                                    "Terem név": "119",
                                    "Kezdés időpontja": "15.30"
                                },
                                {
                                    "Óra azonosító": "181",
                                    "Tanár neve": "Szentágotai Istvás",
                                    "Tantárgy név": "Az ürgeöntés alapjai",
                                    "Terem név": "118",
                                    "Kezdés időpontja": "8.00"
                                },
                                {
                                    "Óra azonosító": "182",
                                    "Tanár neve": "Vitéz János",
                                    "Tantárgy név": "Az ürgeöntés alapjai",
                                    "Terem név": "219",
                                    "Kezdés időpontja": "8.00"
                                },
                                {
                                    "Óra azonosító": "183",
                                    "Tanár neve": "Szentágotai Istvás",
                                    "Tantárgy név": "Az ürgeöntés alapjai",
                                    "Terem név": "220",
                                    "Kezdés időpontja": "9.30"
                                },
                                {
                                    "Óra azonosító": "184",
                                    "Tanár neve": "Vitéz János",
                                    "Tantárgy név": "Az ürgeöntés alapjai",
                                    "Terem név": "218",
                                    "Kezdés időpontja": "9.30"
                                },
                                {
                                    "Óra azonosító": "185",
                                    "Tanár neve": "Szentágotai Istvás",
                                    "Tantárgy név": "Az ürgeöntés alapjai",
                                    "Terem név": "120",
                                    "Kezdés időpontja": "11.00"
                                },
                                {
                                    "Óra azonosító": "186",
                                    "Tanár neve": "Nógrádi Kata",
                                    "Tantárgy név": "ü-business",
                                    "Terem név": "219",
                                    "Kezdés időpontja": "12.30"
                                },
                                {
                                    "Óra azonosító": "187",
                                    "Tanár neve": "Balkán András",
                                    "Tantárgy név": "Bevezetés az ürgeöntésbe",
                                    "Terem név": "217",
                                    "Kezdés időpontja": "9.30"
                                },
                                {
                                    "Óra azonosító": "188",
                                    "Tanár neve": "Farkasos Piroska",
                                    "Tantárgy név": "Bevezetés az ürgeöntésbe",
                                    "Terem név": "VP 203.",
                                    "Kezdés időpontja": "15.30"
                                },
                                {
                                    "Óra azonosító": "189",
                                    "Tanár neve": "Farkasos Piroska",
                                    "Tantárgy név": "Bevezetés az ürgeöntésbe",
                                    "Terem név": "VP 203.",
                                    "Kezdés időpontja": "9.30"
                                },
                                {
                                    "Óra azonosító": "190",
                                    "Tanár neve": "Farkasos Piroska",
                                    "Tantárgy név": "Bevezetés az ürgeöntésbe",
                                    "Terem név": "E.2.238",
                                    "Kezdés időpontja": "11.00"
                                },
                                {
                                    "Óra azonosító": "191",
                                    "Tanár neve": "Varga Kata",
                                    "Tantárgy név": "Az ürgeöntés hydrológiai alapjai II.",
                                    "Terem név": "220",
                                    "Kezdés időpontja": "14.00"
                                },
                                {
                                    "Óra azonosító": "192",
                                    "Tanár neve": "Varga Kata",
                                    "Tantárgy név": "Az ürgeöntés hydrológiai alapjai II.",
                                    "Terem név": "119",
                                    "Kezdés időpontja": "15.30"
                                },
                                {
                                    "Óra azonosító": "193",
                                    "Tanár neve": "Farkasos Piroska",
                                    "Tantárgy név": "Az ürgeöntés hydrológiai alapjai II.",
                                    "Terem név": "217",
                                    "Kezdés időpontja": "14.00"
                                },
                                {
                                    "Óra azonosító": "194",
                                    "Tanár neve": "Farkasos Piroska",
                                    "Tantárgy név": "Az ürgeöntés hydrológiai alapjai II.",
                                    "Terem név": "E.fsz.I",
                                    "Kezdés időpontja": "15.30"
                                },
                                {
                                    "Óra azonosító": "195",
                                    "Tanár neve": "Balkán András",
                                    "Tantárgy név": "Az ürgeöntés hydrológiai alapjai II.",
                                    "Terem név": "116",
                                    "Kezdés időpontja": "14.00"
                                },
                                {
                                    "Óra azonosító": "196",
                                    "Tanár neve": "Balkán András",
                                    "Tantárgy név": "Az ürgeöntés hydrológiai alapjai II.",
                                    "Terem név": "218",
                                    "Kezdés időpontja": "15.30"
                                },
                                {
                                    "Óra azonosító": "197",
                                    "Tanár neve": "Farkasos Piroska",
                                    "Tantárgy név": "Az ürgeöntés hydrológiai alapjai II.",
                                    "Terem név": "116",
                                    "Kezdés időpontja": "8.00"
                                },
                                {
                                    "Óra azonosító": "198",
                                    "Tanár neve": "Farkasos Piroska",
                                    "Tantárgy név": "Az ürgeöntés hydrológiai alapjai II.",
                                    "Terem név": "119",
                                    "Kezdés időpontja": "9.30"
                                },
                                {
                                    "Óra azonosító": "199",
                                    "Tanár neve": "Szabó Andrera",
                                    "Tantárgy név": "Az ürgeöntés hydrológiai alapjai II.",
                                    "Terem név": "218",
                                    "Kezdés időpontja": "8.00"
                                },
                                {
                                    "Óra azonosító": "200",
                                    "Tanár neve": "Szabó Andrera",
                                    "Tantárgy név": "Az ürgeöntés hydrológiai alapjai II.",
                                    "Terem név": "220",
                                    "Kezdés időpontja": "9.30"
                                },
                                {
                                    "Óra azonosító": "201",
                                    "Tanár neve": "Juhász András",
                                    "Tantárgy név": "Öntési gyakorlat",
                                    "Terem név": "E.2.238",
                                    "Kezdés időpontja": "12.30"
                                },
                                {
                                    "Óra azonosító": "202",
                                    "Tanár neve": "Juhász András",
                                    "Tantárgy név": "Öntési gyakorlat",
                                    "Terem név": "E.3.332",
                                    "Kezdés időpontja": "14.00"
                                },
                                {
                                    "Óra azonosító": "203",
                                    "Tanár neve": "Aranyi Mária",
                                    "Tantárgy név": "Az ürgeöntés hydrológiai alapjai I.",
                                    "Terem név": "S.Asor.S3",
                                    "Kezdés időpontja": "12.30"
                                },
                                {
                                    "Óra azonosító": "204",
                                    "Tanár neve": "Róbert Gida",
                                    "Tantárgy név": "Az ürgeöntés hydrológiai alapjai I.",
                                    "Terem név": "120",
                                    "Kezdés időpontja": "14.00"
                                },
                                {
                                    "Óra azonosító": "205",
                                    "Tanár neve": "Ujfalussi István",
                                    "Tantárgy név": "Az öntés elmélete",
                                    "Terem név": "220",
                                    "Kezdés időpontja": "12.30"
                                },
                                {
                                    "Óra azonosító": "206",
                                    "Tanár neve": "Varga Kata",
                                    "Tantárgy név": "Az öntés elmélete",
                                    "Terem név": "S.Asor.S3",
                                    "Kezdés időpontja": "8.00"
                                },
                                {
                                    "Óra azonosító": "207",
                                    "Tanár neve": "Varga Kata",
                                    "Tantárgy név": "Az öntés elmélete",
                                    "Terem név": "219",
                                    "Kezdés időpontja": "12.30"
                                },
                                {
                                    "Óra azonosító": "208",
                                    "Tanár neve": "Jogrerős Pál",
                                    "Tantárgy név": "Ürgevitel",
                                    "Terem név": "VP 203.",
                                    "Kezdés időpontja": "8.00"
                                },
                                {
                                    "Óra azonosító": "209",
                                    "Tanár neve": "Jogrerős Pál",
                                    "Tantárgy név": "Ürgevitel",
                                    "Terem név": "VP 203.",
                                    "Kezdés időpontja": "9.30"
                                },
                                {
                                    "Óra azonosító": "210",
                                    "Tanár neve": "Szép llonka",
                                    "Tantárgy név": "Ürgeöntés az EU-ban",
                                    "Terem név": "E.2.238",
                                    "Kezdés időpontja": "15.30"
                                },
                                {
                                    "Óra azonosító": "211",
                                    "Tanár neve": "Szép llonka",
                                    "Tantárgy név": "Ürgeöntés az EU-ban",
                                    "Terem név": "217",
                                    "Kezdés időpontja": "17.00"
                                },
                                {
                                    "Óra azonosító": "212",
                                    "Tanár neve": "Kiss János",
                                    "Tantárgy név": "Ürgeöntés az EU-ban",
                                    "Terem név": "120",
                                    "Kezdés időpontja": "18.30"
                                },
                                {
                                    "Óra azonosító": "213",
                                    "Tanár neve": "Kiss János",
                                    "Tantárgy név": "Ürgeöntés az EU-ban",
                                    "Terem név": "218",
                                    "Kezdés időpontja": "20.00"
                                },
                                {
                                    "Óra azonosító": "214",
                                    "Tanár neve": "Pelikán József",
                                    "Tantárgy név": "Az ürge anatómiája",
                                    "Terem név": "219",
                                    "Kezdés időpontja": "11.00"
                                },
                                {
                                    "Óra azonosító": "215",
                                    "Tanár neve": "Pelikán József",
                                    "Tantárgy név": "Az ürge anatómiája",
                                    "Terem név": "E.fsz.IV.",
                                    "Kezdés időpontja": "12.30"
                                },
                                {
                                    "Óra azonosító": "216",
                                    "Tanár neve": "Szép llonka",
                                    "Tantárgy név": "Az ürge anatómiája",
                                    "Terem név": "218",
                                    "Kezdés időpontja": "11.00"
                                },
                                {
                                    "Óra azonosító": "217",
                                    "Tanár neve": "Szép llonka",
                                    "Tantárgy név": "Az ürge anatómiája",
                                    "Terem név": "217",
                                    "Kezdés időpontja": "12.30"
                                },
                                {
                                    "Óra azonosító": "218",
                                    "Tanár neve": "Pelikán József",
                                    "Tantárgy név": "Az ürge anatómiája",
                                    "Terem név": "118",
                                    "Kezdés időpontja": "15.30"
                                },
                                {
                                    "Óra azonosító": "219",
                                    "Tanár neve": "Pelikán József",
                                    "Tantárgy név": "Az ürge anatómiája",
                                    "Terem név": "219",
                                    "Kezdés időpontja": "17.00"
                                },
                                {
                                    "Óra azonosító": "220",
                                    "Tanár neve": "Kovács László",
                                    "Tantárgy név": "Fejezetek az ürgék jogaiból",
                                    "Terem név": "119",
                                    "Kezdés időpontja": "11.00"
                                },
                                {
                                    "Óra azonosító": "221",
                                    "Tanár neve": "Kovács László",
                                    "Tantárgy név": "Fejezetek az ürgék jogaiból",
                                    "Terem név": "VP 203.",
                                    "Kezdés időpontja": "11.00"
                                },
                                {
                                    "Óra azonosító": "222",
                                    "Tanár neve": "Kovács László",
                                    "Tantárgy név": "Fejezetek az ürgék jogaiból",
                                    "Terem név": "116",
                                    "Kezdés időpontja": "14.00"
                                },
                                {
                                    "Óra azonosító": "223",
                                    "Tanár neve": "Kovács László",
                                    "Tantárgy név": "Fejezetek az ürgék jogaiból",
                                    "Terem név": "S.Asor.S3",
                                    "Kezdés időpontja": "8.00"
                                },
                                {
                                    "Óra azonosító": "226",
                                    "Tanár neve": "Szentágotai Istvás",
                                    "Tantárgy név": "ürgefőzés",
                                    "Terem név": "117",
                                    "Kezdés időpontja": "11.00"
                                },
                                {
                                    "Óra azonosító": "227",
                                    "Tanár neve": "Szentágotai Istvás",
                                    "Tantárgy név": "Az ürgeöntés hydrológiai alapjai I.",
                                    "Terem név": "116",
                                    "Kezdés időpontja": "14.00"
                                }
                            ]
                        },
                        "text/html": [
                            "<table>",
                            "<tr><th>Óra azonosító</th><th>Tanár neve</th><th>Tantárgy név</th><th>Terem név</th><th>Kezdés időpontja</th></tr>",
                            "<tr><td>159</td><td>Ujfalussi István</td><td>Az ürgeöntés alapjai</td><td>117</td><td>8.00</td></tr>",
                            "<tr><td>160</td><td>Pelikán József</td><td>Az ürgeöntés alapjai</td><td>118</td><td>14.00</td></tr>",
                            "<tr><td>161</td><td>Pelikán József</td><td>Az ürgeöntés alapjai</td><td>118</td><td>9.30</td></tr>",
                            "<tr><td>162</td><td>Kovács András</td><td>Az ürgeöntés alapjai</td><td>119</td><td>12.30</td></tr>",
                            "<tr><td>163</td><td>Szerb László</td><td>Az ürgeöntés alapjai</td><td>120</td><td>9.30</td></tr>",
                            "<tr><td>164</td><td>Kiss János</td><td>Az ürgeöntés alapjai</td><td>119</td><td>11.00</td></tr>",
                            "<tr><td>165</td><td>Szerb László</td><td>Az ürgeöntés alapjai</td><td>119</td><td>11.00</td></tr>",
                            "<tr><td>166</td><td>Szerb László</td><td>Az ürgeöntés alapjai</td><td>119</td><td>12.30</td></tr>",
                            "<tr><td>167</td><td>Szentágotai Istvás</td><td>Az ürgeöntés alapjai</td><td>120</td><td>12.30</td></tr>",
                            "<tr><td>168</td><td>Ujfalussi István</td><td>Az ürgeöntés alapjai</td><td>217</td><td>11.00</td></tr>",
                            "<tr><td>169</td><td>Kovács András</td><td>Az ürgeöntés alapjai</td><td>218</td><td>9.30</td></tr>",
                            "<tr><td>170</td><td>Ludas Mátyás</td><td>Az ürgeöntés alapjai</td><td>120</td><td>9.30</td></tr>",
                            "<tr><td>171</td><td>Szénási ászló</td><td>Az ürgeöntés alapjai</td><td>220</td><td>9.30</td></tr>",
                            "<tr><td>172</td><td>Kiss János</td><td>Az ürgeöntés alapjai</td><td>119</td><td>9.30</td></tr>",
                            "<tr><td>173</td><td>Kovács András</td><td>Az ürgeöntés alapjai</td><td>119</td><td>11.00</td></tr>",
                            "<tr><td>174</td><td>Ludas Mátyás</td><td>Az ürgeöntés alapjai</td><td>219</td><td>11.00</td></tr>",
                            "<tr><td>175</td><td>Szénási ászló</td><td>Az ürgeöntés alapjai</td><td>120</td><td>12.30</td></tr>",
                            "<tr><td>176</td><td>Kovács András</td><td>Az ürgeöntés alapjai</td><td>118</td><td>12.30</td></tr>",
                            "<tr><td>177</td><td>Szentágotai Istvás</td><td>Az ürgeöntés alapjai</td><td>119</td><td>14.00</td></tr>",
                            "<tr><td>178</td><td>Vitéz János</td><td>Az ürgeöntés alapjai</td><td>220</td><td>14.00</td></tr>",
                            "<tr><td>179</td><td>Szentágotai Istvás</td><td>Az ürgeöntés alapjai</td><td>120</td><td>15.30</td></tr>",
                            "<tr><td>180</td><td>Vitéz János</td><td>Az ürgeöntés alapjai</td><td>119</td><td>15.30</td></tr>",
                            "<tr><td>181</td><td>Szentágotai Istvás</td><td>Az ürgeöntés alapjai</td><td>118</td><td>8.00</td></tr>",
                            "<tr><td>182</td><td>Vitéz János</td><td>Az ürgeöntés alapjai</td><td>219</td><td>8.00</td></tr>",
                            "<tr><td>183</td><td>Szentágotai Istvás</td><td>Az ürgeöntés alapjai</td><td>220</td><td>9.30</td></tr>",
                            "<tr><td>184</td><td>Vitéz János</td><td>Az ürgeöntés alapjai</td><td>218</td><td>9.30</td></tr>",
                            "<tr><td>185</td><td>Szentágotai Istvás</td><td>Az ürgeöntés alapjai</td><td>120</td><td>11.00</td></tr>",
                            "<tr><td>186</td><td>Nógrádi Kata</td><td>ü-business</td><td>219</td><td>12.30</td></tr>",
                            "<tr><td>187</td><td>Balkán András</td><td>Bevezetés az ürgeöntésbe</td><td>217</td><td>9.30</td></tr>",
                            "<tr><td>188</td><td>Farkasos Piroska</td><td>Bevezetés az ürgeöntésbe</td><td>VP 203.</td><td>15.30</td></tr>",
                            "<tr><td>189</td><td>Farkasos Piroska</td><td>Bevezetés az ürgeöntésbe</td><td>VP 203.</td><td>9.30</td></tr>",
                            "<tr><td>190</td><td>Farkasos Piroska</td><td>Bevezetés az ürgeöntésbe</td><td>E.2.238</td><td>11.00</td></tr>",
                            "<tr><td>191</td><td>Varga Kata</td><td>Az ürgeöntés hydrológiai alapjai II.</td><td>220</td><td>14.00</td></tr>",
                            "<tr><td>192</td><td>Varga Kata</td><td>Az ürgeöntés hydrológiai alapjai II.</td><td>119</td><td>15.30</td></tr>",
                            "<tr><td>193</td><td>Farkasos Piroska</td><td>Az ürgeöntés hydrológiai alapjai II.</td><td>217</td><td>14.00</td></tr>",
                            "<tr><td>194</td><td>Farkasos Piroska</td><td>Az ürgeöntés hydrológiai alapjai II.</td><td>E.fsz.I</td><td>15.30</td></tr>",
                            "<tr><td>195</td><td>Balkán András</td><td>Az ürgeöntés hydrológiai alapjai II.</td><td>116</td><td>14.00</td></tr>",
                            "<tr><td>196</td><td>Balkán András</td><td>Az ürgeöntés hydrológiai alapjai II.</td><td>218</td><td>15.30</td></tr>",
                            "<tr><td>197</td><td>Farkasos Piroska</td><td>Az ürgeöntés hydrológiai alapjai II.</td><td>116</td><td>8.00</td></tr>",
                            "<tr><td>198</td><td>Farkasos Piroska</td><td>Az ürgeöntés hydrológiai alapjai II.</td><td>119</td><td>9.30</td></tr>",
                            "<tr><td>199</td><td>Szabó Andrera</td><td>Az ürgeöntés hydrológiai alapjai II.</td><td>218</td><td>8.00</td></tr>",
                            "<tr><td>200</td><td>Szabó Andrera</td><td>Az ürgeöntés hydrológiai alapjai II.</td><td>220</td><td>9.30</td></tr>",
                            "<tr><td>201</td><td>Juhász András</td><td>Öntési gyakorlat</td><td>E.2.238</td><td>12.30</td></tr>",
                            "<tr><td>202</td><td>Juhász András</td><td>Öntési gyakorlat</td><td>E.3.332</td><td>14.00</td></tr>",
                            "<tr><td>203</td><td>Aranyi Mária</td><td>Az ürgeöntés hydrológiai alapjai I.</td><td>S.Asor.S3</td><td>12.30</td></tr>",
                            "<tr><td>204</td><td>Róbert Gida</td><td>Az ürgeöntés hydrológiai alapjai I.</td><td>120</td><td>14.00</td></tr>",
                            "<tr><td>205</td><td>Ujfalussi István</td><td>Az öntés elmélete</td><td>220</td><td>12.30</td></tr>",
                            "<tr><td>206</td><td>Varga Kata</td><td>Az öntés elmélete</td><td>S.Asor.S3</td><td>8.00</td></tr>",
                            "<tr><td>207</td><td>Varga Kata</td><td>Az öntés elmélete</td><td>219</td><td>12.30</td></tr>",
                            "<tr><td>208</td><td>Jogrerős Pál</td><td>Ürgevitel</td><td>VP 203.</td><td>8.00</td></tr>",
                            "<tr><td>209</td><td>Jogrerős Pál</td><td>Ürgevitel</td><td>VP 203.</td><td>9.30</td></tr>",
                            "<tr><td>210</td><td>Szép llonka</td><td>Ürgeöntés az EU-ban</td><td>E.2.238</td><td>15.30</td></tr>",
                            "<tr><td>211</td><td>Szép llonka</td><td>Ürgeöntés az EU-ban</td><td>217</td><td>17.00</td></tr>",
                            "<tr><td>212</td><td>Kiss János</td><td>Ürgeöntés az EU-ban</td><td>120</td><td>18.30</td></tr>",
                            "<tr><td>213</td><td>Kiss János</td><td>Ürgeöntés az EU-ban</td><td>218</td><td>20.00</td></tr>",
                            "<tr><td>214</td><td>Pelikán József</td><td>Az ürge anatómiája</td><td>219</td><td>11.00</td></tr>",
                            "<tr><td>215</td><td>Pelikán József</td><td>Az ürge anatómiája</td><td>E.fsz.IV.</td><td>12.30</td></tr>",
                            "<tr><td>216</td><td>Szép llonka</td><td>Az ürge anatómiája</td><td>218</td><td>11.00</td></tr>",
                            "<tr><td>217</td><td>Szép llonka</td><td>Az ürge anatómiája</td><td>217</td><td>12.30</td></tr>",
                            "<tr><td>218</td><td>Pelikán József</td><td>Az ürge anatómiája</td><td>118</td><td>15.30</td></tr>",
                            "<tr><td>219</td><td>Pelikán József</td><td>Az ürge anatómiája</td><td>219</td><td>17.00</td></tr>",
                            "<tr><td>220</td><td>Kovács László</td><td>Fejezetek az ürgék jogaiból</td><td>119</td><td>11.00</td></tr>",
                            "<tr><td>221</td><td>Kovács László</td><td>Fejezetek az ürgék jogaiból</td><td>VP 203.</td><td>11.00</td></tr>",
                            "<tr><td>222</td><td>Kovács László</td><td>Fejezetek az ürgék jogaiból</td><td>116</td><td>14.00</td></tr>",
                            "<tr><td>223</td><td>Kovács László</td><td>Fejezetek az ürgék jogaiból</td><td>S.Asor.S3</td><td>8.00</td></tr>",
                            "<tr><td>226</td><td>Szentágotai Istvás</td><td>ürgefőzés</td><td>117</td><td>11.00</td></tr>",
                            "<tr><td>227</td><td>Szentágotai Istvás</td><td>Az ürgeöntés hydrológiai alapjai I.</td><td>116</td><td>14.00</td></tr>",
                            "</table>"
                        ]
                    }
                }
            ],
            "execution_count": 45
        },
        {
            "cell_type": "markdown",
            "source": [
                "12. <span style=\"color: rgb(36, 41, 47); font-family: -apple-system, BlinkMacSystemFont, &quot;Segoe UI&quot;, Helvetica, Arial, sans-serif, &quot;Apple Color Emoji&quot;, &quot;Segoe UI Emoji&quot;; font-size: 16px;\">Készítsünk listát, amely tartalmazza az egyes órák azonosítóit, és az órán oktatott tantárgy felelősének nevét!</span>\n",
                "\n",
                "1. Rendezzük a listát a tantárgyfelelős neve szerint csökkenő sorrendbe!"
            ],
            "metadata": {
                "azdata_cell_guid": "a765e9d6-58b3-4171-872a-78f3118fd6e3"
            },
            "attachments": {}
        },
        {
            "cell_type": "code",
            "source": [
                ""
            ],
            "metadata": {
                "azdata_cell_guid": "422e8127-b652-4d3a-bfd7-9b1637b5781e",
                "language": "sql"
            },
            "outputs": [],
            "execution_count": null
        },
        {
            "cell_type": "markdown",
            "source": [
                "13. <span style=\"color: rgb(36, 41, 47); font-family: -apple-system, BlinkMacSystemFont, &quot;Segoe UI&quot;, Helvetica, Arial, sans-serif, &quot;Apple Color Emoji&quot;, &quot;Segoe UI Emoji&quot;; font-size: 16px;\">Készítsünk listát, amely megjeleníti, hogy az Orak táblában lévő órák közül hányat tart Dr., illetve nem Dr. titulusú tanár!</span>\n",
                "\n",
                "1. Az oszlopokat nevezzük el értelemszerűen!"
            ],
            "metadata": {
                "azdata_cell_guid": "3f9237ae-f109-401c-acb9-31d75e73331b"
            },
            "attachments": {}
        },
        {
            "cell_type": "code",
            "source": [
                ""
            ],
            "metadata": {
                "azdata_cell_guid": "4b31bb89-cfbc-46b1-8639-85c462877786",
                "language": "sql"
            },
            "outputs": [],
            "execution_count": null
        },
        {
            "cell_type": "markdown",
            "source": [
                "14. <span style=\"color: rgb(36, 41, 47); font-family: -apple-system, BlinkMacSystemFont, &quot;Segoe UI&quot;, Helvetica, Arial, sans-serif, &quot;Apple Color Emoji&quot;, &quot;Segoe UI Emoji&quot;; font-size: 16px;\">Készítsünk listát arról, hogy beosztásonként hány óra szerepel az Orak táblában!</span>\n",
                "\n",
                "1. Jelenítsük meg a beosztások nevét és az órák számát!\n",
                "2. A listát szűrjük azokra a beosztásokra, ahol ez az óraszám 10 feletti!"
            ],
            "metadata": {
                "azdata_cell_guid": "f634e09a-85ef-4e70-8ec6-ef355dfddaa7"
            },
            "attachments": {}
        },
        {
            "cell_type": "code",
            "source": [
                ""
            ],
            "metadata": {
                "azdata_cell_guid": "88abc55b-2c78-495b-a72f-3f8f4eb5fe70",
                "language": "sql"
            },
            "outputs": [],
            "execution_count": null
        },
        {
            "cell_type": "markdown",
            "source": [
                "15. <span style=\"color: rgb(36, 41, 47); font-family: -apple-system, BlinkMacSystemFont, &quot;Segoe UI&quot;, Helvetica, Arial, sans-serif, &quot;Apple Color Emoji&quot;, &quot;Segoe UI Emoji&quot;; font-size: 16px;\">Melyek azok az órák, amelyek kezdési időpontja olyan sávba esik, amely a mostani időpont (óra:perc) után van?</span>\n",
                "\n",
                "1. Listázzuk az órák azonosítóit, valamint az órakezdés napját és időpontját!\n",
                "2. A listát rendezzük az időpont szerint növekvő sorrendbe!"
            ],
            "metadata": {
                "azdata_cell_guid": "4cbf2f0d-a65d-480a-8186-ccdb24498443"
            },
            "attachments": {}
        },
        {
            "cell_type": "code",
            "source": [
                ""
            ],
            "metadata": {
                "azdata_cell_guid": "c148aee8-bc85-40bf-b80a-a4898a6c05cb",
                "language": "sql"
            },
            "outputs": [],
            "execution_count": null
        }
    ]
}